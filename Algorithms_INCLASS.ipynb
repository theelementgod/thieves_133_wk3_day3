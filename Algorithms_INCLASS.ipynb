{
 "cells": [
  {
   "cell_type": "markdown",
   "metadata": {},
   "source": [
    "# Algorithms, Binary Search & Linked Lists"
   ]
  },
  {
   "cell_type": "markdown",
   "metadata": {},
   "source": [
    "## Tasks Today:\n",
    " \n",
    "1) <b>In-Place Algorithms</b> <br>\n",
    " &nbsp;&nbsp;&nbsp;&nbsp; a) Syntax <br>\n",
    " &nbsp;&nbsp;&nbsp;&nbsp; a) Out of Place Algorithm <br>\n",
    " &nbsp;&nbsp;&nbsp;&nbsp; b) In-Class Exercise #1 <br>\n",
    "2) <b>Two Pointers</b> <br>\n",
    "3) <b>Linked Lists</b> <br>\n",
    "4) <b>Merge Sort</b> <br>\n",
    " &nbsp;&nbsp;&nbsp;&nbsp; a) Video on Algorithms <br>\n",
    " &nbsp;&nbsp;&nbsp;&nbsp; b) How it Works <br>\n",
    "5) <b>Exercises</b> <br>\n",
    " &nbsp;&nbsp;&nbsp;&nbsp; a) Exercise #1 - Reverse a List in Place Using an In-Place Algorithm <br>\n",
    " &nbsp;&nbsp;&nbsp;&nbsp; b) Exercise #2 - Find Distinct Words <br>\n",
    " &nbsp;&nbsp;&nbsp;&nbsp; c) Exercise #3 - Write a program to implement a Linear Search Algorithm. <br>"
   ]
  },
  {
   "cell_type": "markdown",
   "metadata": {},
   "source": [
    "## In-Place Algorithms"
   ]
  },
  {
   "cell_type": "markdown",
   "metadata": {},
   "source": [
    "#### Syntax"
   ]
  },
  {
   "cell_type": "code",
   "execution_count": 7,
   "metadata": {},
   "outputs": [
    {
     "name": "stdout",
     "output_type": "stream",
     "text": [
      "2313517841600\n",
      "2313517841600\n"
     ]
    }
   ],
   "source": [
    "#inplace is an algo that modifies the original variable in its place in memory\n",
    "#these algos typically don't return anything\n",
    "\n",
    "def swap(alist, x,y,z):\n",
    "    alist[x], alist[y], alist[z] = alist[y], alist[z], alist[x]\n",
    "\n",
    "my_list = [1,2,3]\n",
    "print(id(my_list))\n",
    "swap(my_list, 0, 1, 2)\n",
    "\n",
    "print(id(my_list))"
   ]
  },
  {
   "cell_type": "markdown",
   "metadata": {},
   "source": [
    "#### Out of Place Algorithm"
   ]
  },
  {
   "cell_type": "code",
   "execution_count": 9,
   "metadata": {},
   "outputs": [
    {
     "name": "stdout",
     "output_type": "stream",
     "text": [
      "2313517832384\n",
      "[1, 2, 3]\n",
      "2313517833728\n"
     ]
    }
   ],
   "source": [
    "#out of place algos don't modify the original, they use the values, but restore the modifications in a new place in memory\n",
    "\n",
    "def out_swap(alist):\n",
    "    output = []\n",
    "    for ele in alist[::1]:\n",
    "        output.append(ele)\n",
    "    return output\n",
    "my_list = [1,2,3]\n",
    "print(id(my_list))\n",
    "\n",
    "my_list = out_swap(my_list)\n",
    "\n",
    "print(my_list)\n",
    "print(id(my_list))\n"
   ]
  },
  {
   "cell_type": "markdown",
   "metadata": {},
   "source": [
    "#### In-Class Exercise #1 <br>\n",
    "<p>Write a function that takes in four arguments (list, index1, index2, index3), and swaps those three positions in the list passed in.</p>"
   ]
  },
  {
   "cell_type": "code",
   "execution_count": 12,
   "metadata": {},
   "outputs": [
    {
     "name": "stdout",
     "output_type": "stream",
     "text": [
      "[10, 3, 8, 4, 4, 2, 6]\n"
     ]
    }
   ],
   "source": [
    "l_1 = [10, 4, 3, 8, 4, 2, 6]\n",
    "\n",
    "def swap(alist, x,y,z):\n",
    "    alist[x], alist[y], alist[z] = alist[y], alist[z], alist[x]\n",
    "\n",
    "swap(l_1, 1,2,3)\n",
    "\n",
    "print(l_1)"
   ]
  },
  {
   "cell_type": "markdown",
   "metadata": {},
   "source": [
    "## Two Pointers"
   ]
  },
  {
   "cell_type": "markdown",
   "metadata": {},
   "source": [
    "#### Syntax"
   ]
  },
  {
   "cell_type": "code",
   "execution_count": 14,
   "metadata": {},
   "outputs": [
    {
     "name": "stdout",
     "output_type": "stream",
     "text": [
      "[6, 3, 4, 5, 2, 1]\n"
     ]
    }
   ],
   "source": [
    "#An algo that keeps track of the indices (two pointers)\n",
    "#\n",
    "\n",
    "this_list = [1,2,3,4,5,6]\n",
    "\n",
    "def two_p_swap(alist):\n",
    "    left = 0\n",
    "    right = len(alist) - 1\n",
    "    while left <= right:\n",
    "        alist[left], alist[right] = alist[right], alist[left]\n",
    "        left =+ 1\n",
    "        right -= 1\n",
    "\n",
    "two_p_swap(this_list)  \n",
    "print(this_list) "
   ]
  },
  {
   "cell_type": "markdown",
   "metadata": {},
   "source": [
    "#### Video of Algorithms <br>\n",
    "<p>Watch the video about algorithms.</p>\n",
    "\n",
    "https://www.youtube.com/watch?v=Q9HjeFD62Uk\n",
    "\n",
    "https://www.youtube.com/watch?v=kPRA0W1kECg\n",
    "\n",
    "https://www.youtube.com/watch?v=ZZuD6iUe3Pc"
   ]
  },
  {
   "cell_type": "markdown",
   "metadata": {},
   "source": [
    "# Sorting Algorithms"
   ]
  },
  {
   "cell_type": "markdown",
   "metadata": {},
   "source": [
    "#### Bubble Sort\n",
    "\n",
    "Worst Case: O(n^2) Time - O(1) Space"
   ]
  },
  {
   "cell_type": "code",
   "execution_count": 20,
   "metadata": {},
   "outputs": [
    {
     "name": "stdout",
     "output_type": "stream",
     "text": [
      "pass + 1\n",
      "[8, 3, 5, 2, 9, 10, 1, 4]\n",
      "[3, 8, 5, 2, 9, 10, 1, 4]\n",
      "[3, 8, 5, 2, 9, 10, 1, 4]\n",
      "[3, 5, 8, 2, 9, 10, 1, 4]\n",
      "[3, 5, 8, 2, 9, 10, 1, 4]\n",
      "[3, 5, 2, 8, 9, 10, 1, 4]\n",
      "[3, 5, 2, 8, 9, 10, 1, 4]\n",
      "[3, 5, 2, 8, 9, 10, 1, 4]\n",
      "[3, 5, 2, 8, 9, 10, 1, 4]\n",
      "[3, 5, 2, 8, 9, 10, 1, 4]\n",
      "[3, 5, 2, 8, 9, 10, 1, 4]\n",
      "[3, 5, 2, 8, 9, 1, 10, 4]\n",
      "[3, 5, 2, 8, 9, 1, 10, 4]\n",
      "[3, 5, 2, 8, 9, 1, 4, 10]\n",
      "pass + 2\n",
      "[3, 5, 2, 8, 9, 1, 4, 10]\n",
      "[3, 5, 2, 8, 9, 1, 4, 10]\n",
      "[3, 5, 2, 8, 9, 1, 4, 10]\n",
      "[3, 2, 5, 8, 9, 1, 4, 10]\n",
      "[3, 2, 5, 8, 9, 1, 4, 10]\n",
      "[3, 2, 5, 8, 9, 1, 4, 10]\n",
      "[3, 2, 5, 8, 9, 1, 4, 10]\n",
      "[3, 2, 5, 8, 9, 1, 4, 10]\n",
      "[3, 2, 5, 8, 9, 1, 4, 10]\n",
      "[3, 2, 5, 8, 1, 9, 4, 10]\n",
      "[3, 2, 5, 8, 1, 9, 4, 10]\n",
      "[3, 2, 5, 8, 1, 4, 9, 10]\n",
      "[3, 2, 5, 8, 1, 4, 9, 10]\n",
      "[3, 2, 5, 8, 1, 4, 9, 10]\n",
      "pass + 3\n",
      "[3, 2, 5, 8, 1, 4, 9, 10]\n",
      "[2, 3, 5, 8, 1, 4, 9, 10]\n",
      "[2, 3, 5, 8, 1, 4, 9, 10]\n",
      "[2, 3, 5, 8, 1, 4, 9, 10]\n",
      "[2, 3, 5, 8, 1, 4, 9, 10]\n",
      "[2, 3, 5, 8, 1, 4, 9, 10]\n",
      "[2, 3, 5, 8, 1, 4, 9, 10]\n",
      "[2, 3, 5, 1, 8, 4, 9, 10]\n",
      "[2, 3, 5, 1, 8, 4, 9, 10]\n",
      "[2, 3, 5, 1, 4, 8, 9, 10]\n",
      "[2, 3, 5, 1, 4, 8, 9, 10]\n",
      "[2, 3, 5, 1, 4, 8, 9, 10]\n",
      "[2, 3, 5, 1, 4, 8, 9, 10]\n",
      "[2, 3, 5, 1, 4, 8, 9, 10]\n",
      "pass + 4\n",
      "[2, 3, 5, 1, 4, 8, 9, 10]\n",
      "[2, 3, 5, 1, 4, 8, 9, 10]\n",
      "[2, 3, 5, 1, 4, 8, 9, 10]\n",
      "[2, 3, 5, 1, 4, 8, 9, 10]\n",
      "[2, 3, 5, 1, 4, 8, 9, 10]\n",
      "[2, 3, 1, 5, 4, 8, 9, 10]\n",
      "[2, 3, 1, 5, 4, 8, 9, 10]\n",
      "[2, 3, 1, 4, 5, 8, 9, 10]\n",
      "[2, 3, 1, 4, 5, 8, 9, 10]\n",
      "[2, 3, 1, 4, 5, 8, 9, 10]\n",
      "[2, 3, 1, 4, 5, 8, 9, 10]\n",
      "[2, 3, 1, 4, 5, 8, 9, 10]\n",
      "[2, 3, 1, 4, 5, 8, 9, 10]\n",
      "[2, 3, 1, 4, 5, 8, 9, 10]\n",
      "pass + 5\n",
      "[2, 3, 1, 4, 5, 8, 9, 10]\n",
      "[2, 3, 1, 4, 5, 8, 9, 10]\n",
      "[2, 3, 1, 4, 5, 8, 9, 10]\n",
      "[2, 1, 3, 4, 5, 8, 9, 10]\n",
      "[2, 1, 3, 4, 5, 8, 9, 10]\n",
      "[2, 1, 3, 4, 5, 8, 9, 10]\n",
      "[2, 1, 3, 4, 5, 8, 9, 10]\n",
      "[2, 1, 3, 4, 5, 8, 9, 10]\n",
      "[2, 1, 3, 4, 5, 8, 9, 10]\n",
      "[2, 1, 3, 4, 5, 8, 9, 10]\n",
      "[2, 1, 3, 4, 5, 8, 9, 10]\n",
      "[2, 1, 3, 4, 5, 8, 9, 10]\n",
      "[2, 1, 3, 4, 5, 8, 9, 10]\n",
      "[2, 1, 3, 4, 5, 8, 9, 10]\n",
      "pass + 6\n",
      "[2, 1, 3, 4, 5, 8, 9, 10]\n",
      "[1, 2, 3, 4, 5, 8, 9, 10]\n",
      "[1, 2, 3, 4, 5, 8, 9, 10]\n",
      "[1, 2, 3, 4, 5, 8, 9, 10]\n",
      "[1, 2, 3, 4, 5, 8, 9, 10]\n",
      "[1, 2, 3, 4, 5, 8, 9, 10]\n",
      "[1, 2, 3, 4, 5, 8, 9, 10]\n",
      "[1, 2, 3, 4, 5, 8, 9, 10]\n",
      "[1, 2, 3, 4, 5, 8, 9, 10]\n",
      "[1, 2, 3, 4, 5, 8, 9, 10]\n",
      "[1, 2, 3, 4, 5, 8, 9, 10]\n",
      "[1, 2, 3, 4, 5, 8, 9, 10]\n",
      "[1, 2, 3, 4, 5, 8, 9, 10]\n",
      "[1, 2, 3, 4, 5, 8, 9, 10]\n",
      "pass + 7\n",
      "[1, 2, 3, 4, 5, 8, 9, 10]\n",
      "[1, 2, 3, 4, 5, 8, 9, 10]\n",
      "[1, 2, 3, 4, 5, 8, 9, 10]\n",
      "[1, 2, 3, 4, 5, 8, 9, 10]\n",
      "[1, 2, 3, 4, 5, 8, 9, 10]\n",
      "[1, 2, 3, 4, 5, 8, 9, 10]\n",
      "[1, 2, 3, 4, 5, 8, 9, 10]\n",
      "[1, 2, 3, 4, 5, 8, 9, 10]\n",
      "[1, 2, 3, 4, 5, 8, 9, 10]\n",
      "[1, 2, 3, 4, 5, 8, 9, 10]\n",
      "[1, 2, 3, 4, 5, 8, 9, 10]\n",
      "[1, 2, 3, 4, 5, 8, 9, 10]\n",
      "[1, 2, 3, 4, 5, 8, 9, 10]\n",
      "[1, 2, 3, 4, 5, 8, 9, 10]\n",
      "[1, 2, 3, 4, 5, 8, 9, 10]\n"
     ]
    }
   ],
   "source": [
    "#places the next largest ele in position with every single pass\n",
    "\n",
    "alist = [8,3,5,2,9,10,1,4]\n",
    "\n",
    "def swap(alist, x, y):\n",
    "    alist[x], alist[y] = alist[y], alist[x]\n",
    "\n",
    "def bubble(alist):\n",
    "    isSorted = False\n",
    "\n",
    "    p = 0\n",
    "    while not isSorted:\n",
    "        p += 1\n",
    "        print(f'pass + {p}')\n",
    "        isSorted = True\n",
    "\n",
    "        for index in range(len(alist)-1):\n",
    "            print(alist)\n",
    "            if alist[index] > alist[index + 1]:\n",
    "                swap(alist, index, index + 1)\n",
    "                isSorted = False\n",
    "            print(alist)\n",
    "\n",
    "bubble(alist)\n",
    "print(alist)"
   ]
  },
  {
   "cell_type": "markdown",
   "metadata": {},
   "source": [
    "##### Insertion Sort\n",
    "\n",
    "Worst Case: O(n^2) time - O(1)space"
   ]
  },
  {
   "cell_type": "code",
   "execution_count": 25,
   "metadata": {},
   "outputs": [
    {
     "name": "stdout",
     "output_type": "stream",
     "text": [
      "[8]\n",
      "3\n",
      "[8, 3]\n",
      "[3, 8]\n",
      "5\n",
      "[3, 8, 5]\n",
      "[3, 5, 8]\n",
      "2\n",
      "[3, 5, 8, 2]\n",
      "[3, 5, 2]\n",
      "[3, 2]\n",
      "[2, 3, 5, 8]\n",
      "9\n",
      "[2, 3, 5, 8, 9]\n",
      "10\n",
      "[2, 3, 5, 8, 9, 10]\n",
      "1\n",
      "[2, 3, 5, 8, 9, 10, 1]\n",
      "[2, 3, 5, 8, 9, 1]\n",
      "[2, 3, 5, 8, 1]\n",
      "[2, 3, 5, 1]\n",
      "[2, 3, 1]\n",
      "[2, 1]\n",
      "[1, 2, 3, 5, 8, 9, 10]\n",
      "4\n",
      "[1, 2, 3, 5, 8, 9, 10, 4]\n",
      "[1, 2, 3, 5, 8, 9, 4]\n",
      "[1, 2, 3, 5, 8, 4]\n",
      "[1, 2, 3, 5, 4]\n",
      "[1, 2, 3, 4, 5, 8, 9, 10]\n"
     ]
    }
   ],
   "source": [
    "#starting from the beginning insertingthe next value into the \"sorted\" values\n",
    "\n",
    "alist = [8,3,5,2,9,10,1,4]\n",
    "\n",
    "def swap(alist, x, y):\n",
    "    alist[x], alist[y] = alist[y], alist[x]\n",
    "\n",
    "def insertion(alist):\n",
    "    for i in range(1, len(alist)):\n",
    "        print(alist[:i])\n",
    "        print(alist[i])\n",
    "        while i > 0 and alist[i] < alist[i-1]:\n",
    "            print(alist[:i+1])\n",
    "            swap(alist, i, i-1)\n",
    "            i -= 1\n",
    "\n",
    "insertion(alist)\n",
    "print(alist)"
   ]
  },
  {
   "cell_type": "markdown",
   "metadata": {},
   "source": [
    "## Merge Sort"
   ]
  },
  {
   "cell_type": "markdown",
   "metadata": {},
   "source": [
    "#### How it Works"
   ]
  },
  {
   "cell_type": "code",
   "execution_count": 29,
   "metadata": {},
   "outputs": [
    {
     "name": "stdout",
     "output_type": "stream",
     "text": [
      "SPLITTING: [8, 3, 5, 2, 9, 10, 1, 4]\n",
      "Left Half: [8, 3, 5, 2] --- Right Half: [9, 10, 1, 4]\n",
      "SPLITTING: [8, 3, 5, 2]\n",
      "Left Half: [8, 3] --- Right Half: [5, 2]\n",
      "SPLITTING: [8, 3]\n",
      "Left Half: [8] --- Right Half: [3]\n",
      "MERGING: Left [8] --- Right [3]\n",
      "One side empty\n",
      "FILLING from other side\n",
      "MERGE COMPLETE [3, 8]\n",
      "SPLITTING: [5, 2]\n",
      "Left Half: [5] --- Right Half: [2]\n",
      "MERGING: Left [5] --- Right [2]\n",
      "One side empty\n",
      "FILLING from other side\n",
      "MERGE COMPLETE [2, 5]\n",
      "MERGING: Left [3, 8] --- Right [2, 5]\n",
      "One side empty\n",
      "FILLING from other side\n",
      "MERGE COMPLETE [2, 3, 5, 8]\n",
      "SPLITTING: [9, 10, 1, 4]\n",
      "Left Half: [9, 10] --- Right Half: [1, 4]\n",
      "SPLITTING: [9, 10]\n",
      "Left Half: [9] --- Right Half: [10]\n",
      "MERGING: Left [9] --- Right [10]\n",
      "One side empty\n",
      "FILLING from other side\n",
      "MERGE COMPLETE [9, 10]\n",
      "SPLITTING: [1, 4]\n",
      "Left Half: [1] --- Right Half: [4]\n",
      "MERGING: Left [1] --- Right [4]\n",
      "One side empty\n",
      "FILLING from other side\n",
      "MERGE COMPLETE [1, 4]\n",
      "MERGING: Left [9, 10] --- Right [1, 4]\n",
      "One side empty\n",
      "FILLING from other side\n",
      "MERGE COMPLETE [1, 4, 9, 10]\n",
      "MERGING: Left [2, 3, 5, 8] --- Right [1, 4, 9, 10]\n",
      "One side empty\n",
      "FILLING from other side\n",
      "MERGE COMPLETE [1, 2, 3, 4, 5, 8, 9, 10]\n",
      "[1, 2, 3, 4, 5, 8, 9, 10]\n"
     ]
    }
   ],
   "source": [
    "\n",
    "\n",
    "\n",
    "alist = [8,3,5,2,9,10,1,4]\n",
    "\n",
    "def mergeSort(alist):\n",
    "    #first step split all the way down the left side (followed by the right)\n",
    "\n",
    "    if len(alist) > 1:\n",
    "        middle = len(alist) // 2\n",
    "        left_half = alist[:middle]\n",
    "        right_half= alist[middle:]\n",
    "        print(f'SPLITTING: {alist}')\n",
    "        print(f'Left Half: {left_half} --- Right Half: {right_half}')\n",
    "\n",
    "        mergeSort(left_half)\n",
    "        mergeSort(right_half)\n",
    "\n",
    "        i = 0 #tracking left pointer\n",
    "        j = 0 #tracking right pointer\n",
    "        k = 0 #tracking main list pointer\n",
    "\n",
    "        print(f'MERGING: Left {left_half} --- Right {right_half}')\n",
    "        #comparing and sorting the elemnts from left and right until one list is empty\n",
    "\n",
    "        while i < len(left_half) and j < len(right_half):\n",
    "            if left_half[i] < right_half[j]:\n",
    "                alist[k] = left_half[i]\n",
    "                i += 1\n",
    "            else:\n",
    "                alist[k] = right_half[j]\n",
    "                j += 1\n",
    "            k += 1\n",
    "        print('One side empty')\n",
    "        #once a list is empty\n",
    "        #fill in from the other list\n",
    "\n",
    "        print('FILLING from other side')\n",
    "        while i < len(left_half):\n",
    "            alist[k] = left_half[i]\n",
    "            i += 1\n",
    "            k += 1\n",
    "        while j < len(right_half):\n",
    "            alist[k] = right_half[j]\n",
    "            j += 1\n",
    "            k += 1\n",
    "        print(f'MERGE COMPLETE {alist}')\n",
    "    # return alist -- inplace don't need to return\n",
    "\n",
    "mergeSort(alist)\n",
    "print(alist)"
   ]
  },
  {
   "cell_type": "markdown",
   "metadata": {},
   "source": [
    "# Binary Search\n",
    "\n",
    "The Binary Search algorithm works by finding the number in the middle of a given array and comparing it to the target. Given that the array is sorted\n",
    "\n",
    "* The worst case run time for this algorithm is `O(log(n))`"
   ]
  },
  {
   "cell_type": "code",
   "execution_count": 32,
   "metadata": {},
   "outputs": [
    {
     "data": {
      "text/plain": [
       "'WINNER WINNER CHICKEN DINNER found 8 at index 7'"
      ]
     },
     "execution_count": 32,
     "metadata": {},
     "output_type": "execute_result"
    }
   ],
   "source": [
    "def binarSearch(alist, target):\n",
    "    left = 0\n",
    "    right = len(alist) - 1\n",
    "    while left <= right:\n",
    "        middle = (left + right) // 2\n",
    "        potential = alist[middle]\n",
    "        if target == potential:\n",
    "            return f'WINNER WINNER CHICKEN DINNER found {target} at index {middle}'\n",
    "        if target > potential:\n",
    "            left = middle + 1\n",
    "        elif target < potential:\n",
    "            right = middle - 1\n",
    "    return 'Target not found'\n",
    "binarSearch([1,2,3,4,5,6,7,8,22,45,64,78,90,1000], 8)"
   ]
  },
  {
   "cell_type": "markdown",
   "metadata": {},
   "source": [
    "# Exercises"
   ]
  },
  {
   "cell_type": "markdown",
   "metadata": {},
   "source": [
    "### Exercise #1 <br>\n",
    "<p>Reverse the list below in-place using an in-place algorithm.<br>For extra credit: Reverse the strings at the same time.</p>"
   ]
  },
  {
   "cell_type": "code",
   "execution_count": 129,
   "metadata": {},
   "outputs": [
    {
     "name": "stdout",
     "output_type": "stream",
     "text": [
      "['.', 'sentence', 'a', 'is', 'this']\n",
      "['up', 'mess', 'i', 'did', 'or', 'flexible', 'this', 'is']\n"
     ]
    }
   ],
   "source": [
    "#NO HARD CODING\n",
    "#2 POINTER\n",
    "#make it flexible\n",
    "\n",
    "words = ['this' , 'is', 'a', 'sentence', '.']\n",
    "\n",
    "test = ['is', 'this', 'flexible', 'or', 'did', 'i', 'mess', 'up']\n",
    "\n",
    "def reverseSentence(alist):\n",
    "    left = 0\n",
    "    right = len(alist) - 1\n",
    "    while left < right:\n",
    "        alist[left], alist[right] = alist[right], alist[left]\n",
    "        left += 1\n",
    "        right -= 1\n",
    "        for letters in words:\n",
    "            letters = letters[::-1]\n",
    "        for letters in test:\n",
    "            letters = letters[::-1]\n",
    "\n",
    "reverseSentence(words)\n",
    "reverseSentence(test)  \n",
    "print(words)\n",
    "print(test) "
   ]
  },
  {
   "cell_type": "markdown",
   "metadata": {},
   "source": [
    "### Exercise #2 <br>\n",
    "<p>Create a function that counts how many distinct words are in the string below, then outputs a dictionary with the words as the key and the value as the amount of times that word appears in the string.<br>Should output:<br>{'a': 5,<br>\n",
    " 'abstract': 1,<br>\n",
    " 'an': 3,<br>\n",
    " 'array': 2, ... etc...</p>"
   ]
  },
  {
   "cell_type": "code",
   "execution_count": 124,
   "metadata": {},
   "outputs": [
    {
     "name": "stdout",
     "output_type": "stream",
     "text": [
      "{'a': 5, 'in': 1, 'abstract': 1, 'an': 3, 'array': 2, 'associative': 1, 'be': 1, 'buckets': 1, 'can': 2, 'compute': 1, 'computing,': 1, 'data': 2, 'desired': 1, 'found': 1, 'from': 1, 'function': 1, 'hash': 4, 'implements': 1, 'index': 1, 'into': 1, 'is': 1, 'keys': 1, 'map': 2, 'of': 1, 'or': 1, 'slots': 1, 'structure': 2, 'table': 2, 'that': 1, 'the': 1, 'to': 2, 'type,': 1, 'uses': 1, 'value': 1, 'values.': 1, 'which': 2}\n"
     ]
    }
   ],
   "source": [
    "a_text = 'In computing, a hash table hash map is a data structure which implements an associative array abstract data type, a structure that can map keys to values. A hash table uses a hash function to compute an index into an array of buckets or slots from which the desired value can be found'\n",
    "\n",
    "#casing matters In and in are the same .split()\n",
    "\n",
    "#extra credit should be able to ignore punctuation HINT: .strip()\n",
    "\n",
    "\n",
    "def word_count(str):\n",
    "    counts = dict()\n",
    "    x = str.split()\n",
    "    x.sort()\n",
    "\n",
    "    for word in x:\n",
    "        if word in counts:\n",
    "            counts[word] += 1\n",
    "        else:\n",
    "            counts[word.lower()] = 1\n",
    "\n",
    "\n",
    "    return counts\n",
    "       \n",
    "print(word_count(a_text))\n"
   ]
  },
  {
   "cell_type": "markdown",
   "metadata": {},
   "source": [
    "## Exercise #3\n",
    "\n",
    "Write a program to implement a Linear Search Algorithm. Also in a comment, write the Time Complexity of the following algorithm.\n",
    "\n",
    "#### Hint: Linear Searching will require searching a list for a given number. "
   ]
  },
  {
   "cell_type": "code",
   "execution_count": 104,
   "metadata": {},
   "outputs": [
    {
     "data": {
      "text/plain": [
       "'Target not found'"
      ]
     },
     "execution_count": 104,
     "metadata": {},
     "output_type": "execute_result"
    }
   ],
   "source": [
    "#Linear Search not Binary\n",
    "# is it the first ele, the second ele, the third ele...\n",
    "\n",
    "def linearSearch(alist, target):\n",
    "    left = 0\n",
    "    while True:\n",
    "        potential = alist[left]\n",
    "        if target == potential:\n",
    "            return f'I win!  You number is {target} and it is at index {left}!'\n",
    "        if target > potential:\n",
    "            left += 1\n",
    "        else:\n",
    "            return 'Target not found'\n",
    "linearSearch([1,2,3,4,5,6,7,8,22,45,64,78,90,1000], 999)\n",
    "\n"
   ]
  }
 ],
 "metadata": {
  "kernelspec": {
   "display_name": "Python 3",
   "language": "python",
   "name": "python3"
  },
  "language_info": {
   "codemirror_mode": {
    "name": "ipython",
    "version": 3
   },
   "file_extension": ".py",
   "mimetype": "text/x-python",
   "name": "python",
   "nbconvert_exporter": "python",
   "pygments_lexer": "ipython3",
   "version": "3.7.6"
  }
 },
 "nbformat": 4,
 "nbformat_minor": 2
}
